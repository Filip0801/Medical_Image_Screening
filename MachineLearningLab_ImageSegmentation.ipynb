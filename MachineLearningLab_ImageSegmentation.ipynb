{
 "cells": [
  {
   "cell_type": "markdown",
   "metadata": {
    "id": "8jeXfAfPTy6r"
   },
   "source": [
    "# Learning Unit 2: Image Segmentation\n",
    "The objective of this exercise is to guide you step-by-step through the implementation of a deep CNN for multi-label segmentation. We will be using the JSRT dataset with 160 training and 87 validation scans with 5 anatomical labels (heart, left/right lung, left/right collarbone).\n",
    "\n",
    "First you will implement and train a standard fully-convolutional network that directly predicts the probability of each class on a coarse grid and uses a simple upsampling to match the original resolution. Second you will extend the network and implement a lightweight version of the popular U-Net architecture."
   ]
  },
  {
   "cell_type": "code",
   "execution_count": null,
   "metadata": {
    "colab": {
     "base_uri": "https://localhost:8080/"
    },
    "id": "lLn6zMb-Tq5b",
    "outputId": "715337be-546e-4fff-ea75-678e55245b91",
    "is_executing": true
   },
   "outputs": [],
   "source": [
    "# for use in google colab\n",
    "!pip install torchinfo\n",
    "# imports\n",
    "from torch.utils.data import Dataset\n",
    "from torch.utils.data import DataLoader\n",
    "import os\n",
    "import torch\n",
    "import matplotlib.pyplot as plt\n",
    "import torch\n",
    "import torch.nn as nn\n",
    "from torch.nn import functional as F\n",
    "from torchinfo import summary\n",
    "from tqdm.notebook import tqdm, trange\n",
    "import numpy as np\n",
    "\n",
    "os.environ[\"CUDA_DEVICE_ORDER\"] = \"PCI_BUS_ID\"\n",
    "os.environ['CUDA_VISIBLE_DEVICES'] = '0'\n",
    "# check if cuda is available\n",
    "if (torch.cuda.is_available() == False):\n",
    "    print('CUDA not found! It is highly recommended to enable CUDA for the exercises')\n",
    "    device = 'cpu'\n",
    "else:\n",
    "    print('CUDA GPU found: ', torch.cuda.get_device_name(['0']))\n",
    "    device = 'cuda'"
   ]
  },
  {
   "cell_type": "code",
   "execution_count": null,
   "metadata": {
    "colab": {
     "base_uri": "https://localhost:8080/"
    },
    "id": "LaPLQBlAT3_a",
    "outputId": "b4f46d30-0b22-4485-9e39-0e488205a249"
   },
   "outputs": [],
   "source": [
    "# download the data\n",
    "!wget -nc https://cloud.imi.uni-luebeck.de/s/JkDxJnnDXCa7sy6/download -O jsrt_seg_masks.pth\n",
    "!wget -nc https://cloud.imi.uni-luebeck.de/s/sBgNizxWk2boDXK/download -O JSRT_img0_lms.pth\n",
    "# define the dataset\n",
    "class JSRTDataset(Dataset):\n",
    "    SPLIT_IDX = 160\n",
    "\n",
    "    def __init__(self, mode: str, ):\n",
    "        super().__init__()\n",
    "        # load data\n",
    "        data = torch.load('JSRT_img0_lms.pth', map_location='cpu')\n",
    "        self.imgs = data['JSRT_img0'].float()  # already z-normalized\n",
    "        del data\n",
    "        self.seg_masks_onehot = torch.load('jsrt_seg_masks.pth').long()\n",
    "\n",
    "        # check for equal number of samples\n",
    "        assert self.imgs.shape[0] == self.seg_masks_onehot.shape[0]\n",
    "        N,C,H,W = self.seg_masks_onehot.shape\n",
    "        self.seg_masks = torch.zeros(N,H,W).long()\n",
    "        for channel in range(C):\n",
    "            self.seg_masks[self.seg_masks_onehot[:,channel]==1]=channel+1\n",
    "\n",
    "        # select images for training or testing\n",
    "        if mode == 'train':\n",
    "            self.imgs = self.imgs[:self.SPLIT_IDX]\n",
    "            self.seg_masks = self.seg_masks[:self.SPLIT_IDX]\n",
    "        elif mode == 'test':\n",
    "            self.imgs = self.imgs[self.SPLIT_IDX:]\n",
    "            self.seg_masks = self.seg_masks[self.SPLIT_IDX:]\n",
    "        else:\n",
    "            raise ValueError(f'Unknown mode {mode}')\n",
    "\n",
    "    def __len__(self):\n",
    "        return self.imgs.shape[0]\n",
    "\n",
    "    def __getitem__(self, idx):\n",
    "        img = self.imgs[idx].unsqueeze(0)\n",
    "        seg_mask = self.seg_masks[idx]\n",
    "        return img, seg_mask\n",
    "\n",
    "# save train and validation datasets\n",
    "train_dataset = JSRTDataset('train')\n",
    "val_dataset = JSRTDataset('test')"
   ]
  },
  {
   "cell_type": "markdown",
   "metadata": {
    "id": "nU44gMm_Vj1s"
   },
   "source": [
    "Let's visualise one example scan with its segmentation. Labels range from 0 to 5, with 1 to 5 corresponding to the labeled anatomical structures and 0 representing the background (i.e. all residual unlabeled parts) The images in the dataset are already normalised with a Z score normalization, so it has a mean of 0 and variance of 1."
   ]
  },
  {
   "cell_type": "code",
   "execution_count": null,
   "metadata": {
    "colab": {
     "base_uri": "https://localhost:8080/",
     "height": 452
    },
    "id": "PXGezEVDVs1C",
    "outputId": "29365f3a-fdda-4c72-c881-a60ed9a0c21b"
   },
   "outputs": [],
   "source": [
    "test_img, test_seg = val_dataset[2]\n",
    "plt.imshow(test_img.squeeze(), cmap='gray')\n",
    "plt.colorbar()\n",
    "plt.imshow(np.ma.masked_where(test_seg.squeeze()==0, test_seg.squeeze()), alpha=0.5, interpolation='nearest', cmap='jet')\n",
    "print('Mean: {:.1f} Variance: {:.1f}'.format(test_img.mean().item(), test_img.var().item()))"
   ]
  },
  {
   "cell_type": "markdown",
   "metadata": {
    "id": "zB7ly5qZY6Di"
   },
   "source": [
    "## Dice Score\n",
    "To evaluate your segmentation model, implement a function to calculate the Dice Score Coefficient. The Dice is calculated as twice the number of pixels shared between prediction and ground truth divided by the sum of pixels in prediction and ground truth. Perfect overlap resutls in a Dice Score of 1, no overlap in a Dice Score of 0.\n",
    "\n",
    "To avoid dividing by 0 when a label is not present, add a small offset (```1e-8```) to numerator and denominator. This does not change the result in a significant way for any values other than 0."
   ]
  },
  {
   "cell_type": "code",
   "execution_count": null,
   "metadata": {
    "id": "xJdVWfe1Y5OV"
   },
   "outputs": [],
   "source": [
    "def dice_coeff(prediction, ground_truth, max_label):\n",
    "    dice = torch.FloatTensor(max_label - 1).fill_(0)\n",
    "    for label_num in range(1, max_label):\n",
    "        # number of pixels in predicted segmentation\n",
    "        iflat = (prediction == label_num).view(-1).float()\n",
    "        # number of pixels in ground truth segmentation\n",
    "        tflat = (ground_truth == label_num).view(-1).float()\n",
    "        # number of pixels of the intersection of both segmentations\n",
    "        intersection = torch.sum(iflat * tflat)\n",
    "        # TODO:\n",
    "        dice[label_num - 1] = ...\n",
    "    return dice"
   ]
  },
  {
   "cell_type": "markdown",
   "metadata": {
    "id": "iLeI_m2saQaa"
   },
   "source": [
    "Test your implementation. This should return ```tensor([0.7778, 0.6857, 0.8266, 0.6770, 0.2093, 1.0000])```."
   ]
  },
  {
   "cell_type": "code",
   "execution_count": null,
   "metadata": {
    "colab": {
     "base_uri": "https://localhost:8080/"
    },
    "id": "isLGT7tfZFOb",
    "outputId": "5ff57175-422c-4350-b6a3-d32d6381f26e"
   },
   "outputs": [],
   "source": [
    "test_img2, test_seg2 = val_dataset[0]\n",
    "dice_coeff(test_seg, test_seg2, max_label=7)"
   ]
  },
  {
   "cell_type": "markdown",
   "metadata": {
    "id": "e5TAKl3Gb7VC"
   },
   "source": [
    "## Data augmentation\n",
    "Due to the limited number of training data in our dataset and the resulting risk of overfitting during training, we want to create synthetic data by using small random affine transformations on the fly.\n",
    "\n",
    "For this task, you can use `F.grid_sample`. `F.grid_sample` takes a grid (flow field) with world coordinates and samples the values from the input for the specified position. Read the [pytorch-doc](https://pytorch.org/docs/stable/generated/torch.nn.functional.grid_sample.html) for a detailed explanation.\n",
    "\n",
    "Create a random transformation matrix `theta` of shape $[B,2,3]$, where $B$ describes the batch size. Create `theta` using `torch.eye` and add a random offset via `torch.randn` to it. The offset should be weighted with 0.1. To obtain the needed shape use broadcasting with `.unqueeze(0)` on the eye matrix.\n",
    "\n",
    "Next, use `theta` to create a flow field with `F.affine_grid` with the image shape as target output size.\n",
    "\n",
    "With the flow field you can then sample from image and ground truth using `F.grid_sample`. Take the data types (float for image, long for segmentation) into consideration. Use `mode=bilinear` for the image and `mode=nearest` for the ground truth.\n",
    "\n",
    "The results should be have the shape $[B,1,256,256]$ with batch size , 1 channel, height 256 and width 256."
   ]
  },
  {
   "cell_type": "code",
   "execution_count": null,
   "metadata": {
    "id": "25i-o6Scf825"
   },
   "outputs": [],
   "source": [
    "def augment_affine(image: torch.Tensor, ground_truth: torch.Tensor):\n",
    "    batch_size = image.shape[0]\n",
    "    # TODO: implement the affine transformation\n",
    "    theta = ...\n",
    "    grid = ...\n",
    "    image = ...\n",
    "    ground_truth = ...\n",
    "\n",
    "    # need to be fulfilled\n",
    "    assert image.dtype == torch.float\n",
    "    assert ground_truth.dtype == torch.long\n",
    "    assert list(image.shape) == [batch_size, 1, 256, 256]\n",
    "    assert list(ground_truth.shape) == [batch_size, 1, 256, 256]\n",
    "\n",
    "    return image, ground_truth.squeeze()\n"
   ]
  },
  {
   "cell_type": "markdown",
   "metadata": {
    "id": "BnYEnfmFl0xo"
   },
   "source": [
    "Let's visualise one example augmentation."
   ]
  },
  {
   "cell_type": "code",
   "execution_count": null,
   "metadata": {
    "colab": {
     "base_uri": "https://localhost:8080/",
     "height": 904
    },
    "id": "vN88bOAZl5im",
    "outputId": "05250fb4-2dc5-45f9-cc9c-750b547a9f8f"
   },
   "outputs": [],
   "source": [
    "plt.imshow(test_img.squeeze(), cmap='gray')\n",
    "plt.title('Original image')\n",
    "plt.figure()\n",
    "plt.imshow(augment_affine(test_img.unsqueeze(0), test_seg.unsqueeze(0))[0].squeeze().cpu(),cmap='gray')\n",
    "plt.title('After affine transform')"
   ]
  },
  {
   "cell_type": "markdown",
   "metadata": {
    "id": "KLmGUz7zgZjs"
   },
   "source": [
    "## Loss weighting\n",
    "\n",
    "The different organs in medical images are very different in size. It is therefore often necessary to weigh the loss with inverse frequency to improve the training stability. You can use `torch.bincount` ([pytorch-doc]([https://pytorch.org/docs/stable/generated/torch.bincount.html)) on a 1D vector (of long datatype) that you can obtain with `.reshape` from `train_dataset.seg_masks`. Convert the count into a float vector and use a reciprocal power of 0.35 to obtain a weight vector. Divide this vector by its mean - it should look as follows: `tensor([0.4031, 0.6409, 0.6934, 0.7888, 1.7354, 1.7383])`"
   ]
  },
  {
   "cell_type": "code",
   "execution_count": null,
   "metadata": {
    "colab": {
     "base_uri": "https://localhost:8080/"
    },
    "id": "xHiyFAUFhSpp",
    "outputId": "996d420b-69b7-4574-a37c-68989e01a7f5"
   },
   "outputs": [],
   "source": [
    "weight = ...\n",
    "weight"
   ]
  },
  {
   "cell_type": "markdown",
   "metadata": {
    "id": "2wMHwPabiTRb"
   },
   "source": [
    "## Simple convolutional network\n",
    "\n",
    "Next, we build our fully-convolutional network `fullyconv` that directly predicts the probability of each class on a coarse grid and uses a simple upsampling to match the original resolution. Therefor, we need a `nn.Sequential` container that holds four ConvGroups. Each group consists of\n",
    "\n",
    "1. a `nn.Conv2d` with kernel size = 3, padding = 1\n",
    "2. a `nn.InstanceNorm2d` for normalisation\n",
    "3. a `nn.LeakyReLU` as non-linearity\n",
    "\n",
    "The first ConvGroup should increase the channel dimension to 16 and reduce the spatial dimension with a `stride=2` in the `nn.Conv2d`. The second group should double the channels and again reduce the spatial dimension using the same stride as group one. The third and fourth group have an output channel dimension=64 and keep the spatial resolution (no stride).\n",
    "\n",
    "Finally, we use a single `nn.Conv2d` with same kernel and padding properties like the one of the ConvGroup as classifier. The output channel should match the number of classes=6.\n",
    "\n",
    "The model should have $63,686$ trainable parameters."
   ]
  },
  {
   "cell_type": "code",
   "execution_count": null,
   "metadata": {
    "colab": {
     "base_uri": "https://localhost:8080/"
    },
    "id": "zxMHTbjyj4M8",
    "outputId": "1d62e424-1697-4d0c-bf48-34a303384a6f"
   },
   "outputs": [],
   "source": [
    "# for reproducibility\n",
    "torch.manual_seed(42)\n",
    "\n",
    "#TODO implement backbone\n",
    "fullyconv = ...\n",
    "\n",
    "summary(fullyconv, (1, 1, 256, 256))"
   ]
  },
  {
   "cell_type": "markdown",
   "metadata": {
    "id": "Bb0VPkw_kAZ0"
   },
   "source": [
    "## Training loop\n",
    "\n",
    "Implement your training loop by completing the function `train_model` with the forward and backward pass, the update step on the optimizer and returns the loss history. Refer to [torch.optim](https://pytorch.org/docs/stable/optim.html#taking-an-optimization-step) to see an example of the training loop in pytorch.\n",
    "\n",
    "Each training step will be on a batch of three images. Move the images and labels to the GPU and augment them with your augment_affine function. Make sure to upsample the prediction of your model to the correct output shape (same size as your target) using `F.interpolate` ([pytorch-doc](https://pytorch.org/docs/stable/generated/torch.nn.functional.interpolate.html)). Do not forget to pass the weight tensor to `nn.CrossEntropyLoss` ([pytorch-doc](https://pytorch.org/docs/stable/generated/torch.nn.CrossEntropyLoss.html))."
   ]
  },
  {
   "cell_type": "code",
   "execution_count": null,
   "metadata": {
    "id": "yNPS2Fp1lvg5"
   },
   "outputs": [],
   "source": [
    "train_dataloader = DataLoader(train_dataset, batch_size=3, shuffle=True, num_workers=2, drop_last=True)"
   ]
  },
  {
   "cell_type": "code",
   "execution_count": null,
   "metadata": {
    "id": "_FSMqsg9kPVM"
   },
   "outputs": [],
   "source": [
    "# implement training loop\n",
    "def train_model(model: nn.Module, num_epoch=50) -> torch.Tensor:\n",
    "    # TODO: use Adam optimizer with a learning rate of 0.001\n",
    "    optimizer = ...\n",
    "    # TODO: use CrossEntropyLoss with pre-defined weighting\n",
    "    criterion = ...\n",
    "\n",
    "    loss_history = torch.zeros(num_epoch)\n",
    "\n",
    "    for epoch in trange(num_epoch, unit='epoch', desc='training'):\n",
    "        ### TRAINING ###\n",
    "        # set model to training mode\n",
    "        model.train()\n",
    "        for x, y in train_dataloader:\n",
    "            x = x.cuda(non_blocking=True)\n",
    "            y = y.cuda(non_blocking=True)\n",
    "            H, W = x.shape[-2:]\n",
    "            # TODO: apply affine augmentation\n",
    "            x, y = ...\n",
    "            # Reset gradient of optimizer\n",
    "            ...\n",
    "            # TODO: get prediction from the model\n",
    "            y_hat = ...\n",
    "            # TODO: interpolate prediction to original size\n",
    "            y_hat = ...\n",
    "            # TODO: Calculate loss\n",
    "            loss = ...\n",
    "            # TODO: Back-propagation and optimizer step\n",
    "            ...\n",
    "            ...\n",
    "\n",
    "            loss_history[epoch] += loss.detach().item()\n",
    "        loss_history[epoch] /= len(train_dataloader)\n",
    "\n",
    "        ### VALIDATION ###\n",
    "        if epoch % 5 == 4:\n",
    "            model.eval()\n",
    "            dice = torch.zeros(5)\n",
    "            for x, y in val_dataset:\n",
    "                x = x.cuda(non_blocking=True).unsqueeze(0)\n",
    "                y = y.cuda(non_blocking=True)\n",
    "                with torch.no_grad():\n",
    "                    y_hat = model(x)\n",
    "                    y_hat = F.interpolate(y_hat, size=(H, W), mode='bilinear', align_corners=True)\n",
    "                    dice += dice_coeff(y_hat.argmax(1).squeeze(), y, 6)\n",
    "            dice /= len(val_dataset)\n",
    "            tqdm.write(f\"{epoch} epoch: loss: {'%0.3f'%loss_history[epoch]}, Dice: {'%0.3f'%(100*dice.mean())}\")\n",
    "\n",
    "    return loss_history"
   ]
  },
  {
   "cell_type": "code",
   "execution_count": null,
   "metadata": {
    "colab": {
     "base_uri": "https://localhost:8080/",
     "height": 219,
     "referenced_widgets": [
      "25ffe36cba5b4751b3fa1aafda211170",
      "90ab061ea0804458aa7c6f16d120bf30",
      "7b936dc7e87840da978e4accc68e6be2",
      "5f420f71cf6745d4b006a7a4a7e2726b",
      "abe05f1d250f43f1ba21737598a834b2",
      "b67f25c08f1a4639b5dbd5e57a4a3132",
      "f0c2fd45956948439bb8e0b4a186ee71",
      "bfa335ff942045618429b5dcce4e91d5",
      "2f28ad8d09ff44c6998f0abfbd6e101e",
      "b93fadc2005b4403a9ab95e797141c1d",
      "613934f1713d4db8919ef204f8193a62"
     ]
    },
    "id": "kdohQv0wnBpx",
    "outputId": "6a50cebe-ec01-473b-c882-255741b65af7"
   },
   "outputs": [],
   "source": [
    "run_loss_fullyconv = train_model(fullyconv.to('cuda'), num_epoch=50)"
   ]
  },
  {
   "cell_type": "markdown",
   "metadata": {
    "id": "hEjXFaMOpmAG"
   },
   "source": [
    "After 50 epochs, we can achieve an evaluation Dice of about 85\\%. We have provided the following function to visualise the results on an unseen validation case.\n"
   ]
  },
  {
   "cell_type": "code",
   "execution_count": null,
   "metadata": {
    "colab": {
     "base_uri": "https://localhost:8080/",
     "height": 763
    },
    "id": "HMwl6tQ2plOZ",
    "outputId": "375ce2ec-608b-406a-b773-ca8ec9fb7f0e"
   },
   "outputs": [],
   "source": [
    "test_img, test_seg = val_dataset[2]\n",
    "def show_results(model, run_loss):\n",
    "    output=model(test_img.cuda().unsqueeze(0))\n",
    "    ax1 = plt.subplot(1,2,1)\n",
    "    ax2 = plt.subplot(1,2,2)\n",
    "    ax1.imshow(test_seg)\n",
    "    ax1.title.set_text('Ground truth')\n",
    "    ax2.imshow(F.interpolate(output, size=(256,256), mode='bilinear').argmax(1).cpu().squeeze())\n",
    "    ax2.title.set_text('Prediction')\n",
    "    plt.figure()\n",
    "    plt.plot(run_loss)\n",
    "    plt.title('Training loss')\n",
    "    plt.xlabel('epoch')\n",
    "\n",
    "show_results(fullyconv, run_loss_fullyconv)"
   ]
  },
  {
   "cell_type": "markdown",
   "metadata": {
    "id": "FuQIYg3xnnGb"
   },
   "source": [
    "#Improving the model\n",
    "\n",
    "The model's performance can be improved by extending the size of the fully convolutional network. Instead of output dimensions 16, 32 and 64 use the 64, 128 and 256.\n",
    "\n",
    "The model should have $973,574$ trainable parameters"
   ]
  },
  {
   "cell_type": "code",
   "execution_count": null,
   "metadata": {
    "colab": {
     "base_uri": "https://localhost:8080/"
    },
    "id": "ccfDYF5VqTeb",
    "outputId": "f67bd183-70d7-4bc6-82ee-394793c2a130"
   },
   "outputs": [],
   "source": [
    "#TODO implement backbone\n",
    "fullyconv2 = ...\n",
    "summary(fullyconv2, (1, 1, 256, 256))"
   ]
  },
  {
   "cell_type": "code",
   "execution_count": null,
   "metadata": {
    "colab": {
     "base_uri": "https://localhost:8080/",
     "height": 219,
     "referenced_widgets": [
      "40c3df03040f4b888540ca6399fa2f28",
      "be37c78e07d84ef2b0e806204b8fb030",
      "a88ec7944cf040febf68c6f18a6a44b9",
      "87e50fdd17344c01849892ce87948ae0",
      "863781417ae74a9b97bd7072973498d2",
      "7f604a827a5d4468a37ad47e54db4f27",
      "17d9468c549e48edae2029d684220dc8",
      "afd1d6fe2ffc442db3964944ef490dd4",
      "ce4d46a9f1344424ac4b7465f91f18f7",
      "d18f7dfc7b954b679127dea14b91466e",
      "7a6fd000b6384993894d0fb11faeba97"
     ]
    },
    "id": "vXvOZa6gqX-Z",
    "outputId": "d412df8b-928b-4de5-bc62-644ab16a8b95"
   },
   "outputs": [],
   "source": [
    "run_loss_fullyconv2 = train_model(fullyconv2.to('cuda'), num_epoch=50)"
   ]
  },
  {
   "cell_type": "markdown",
   "metadata": {
    "id": "Xz8EP76g0yby"
   },
   "source": [
    "After 50 epochs, we can achieve an evaluation Dice of about 88\\%."
   ]
  },
  {
   "cell_type": "code",
   "execution_count": null,
   "metadata": {
    "colab": {
     "base_uri": "https://localhost:8080/",
     "height": 763
    },
    "id": "joOz1NtgqaIb",
    "outputId": "0808dd1f-8d51-43c6-c66e-4aaf512089de"
   },
   "outputs": [],
   "source": [
    "show_results(fullyconv2, run_loss_fullyconv2)"
   ]
  },
  {
   "cell_type": "markdown",
   "metadata": {
    "id": "cfc2ppNEquXf"
   },
   "source": [
    "## U-Net\n",
    "\n",
    "More elaborate network architecture usually surpass the performance of simple CNNs.\n",
    "\n",
    "Probably the most popular architecture for segmentation is the [U-Net](https://arxiv.org/abs/1505.04597). It comprises an encoder, decoder and skip connections inbetween. The architecture is well explained [here](https://paperswithcode.com/method/u-net) or [here](https://medium.datadriveninvestor.com/an-overview-on-u-net-architecture-d6caabf7caa4).\n",
    "\n",
    "For this task, implement a light-weight version of the U-Net with the following specifications:\n",
    "- 4 encoding blocks\n",
    "  - Block 1: $3 \\times 3$ convolutions with 64 output channels, `padding=1`,`stride=1`, followed by an instance-normalization and a LeakyReLu activation.\n",
    "  - Block 2-4: $3 \\times 3$ convolutions with 128, 256 and 512 output channels respectively, `padding=1`,`stride=2`, followed by an instance-normalization and a LeakyReLu activation.\n",
    "- 3 decoding blocks:\n",
    " - Block 4-2: $3 \\times 3$ convolutions with 256, 128 and 64 output channels respectively, `padding=1`,`stride=1`, followed by an instance-normalization and a LeakyReLu activation.\n",
    " - The inputs to these blocks are the concatenation of 1) the output of the corresponding encoding block and 2) the output of the previous decoding block\n",
    "- a classifier block\n",
    "  - $1 x 1$ convolutions, number of output channels correspond to the number of classes\n",
    "\n",
    "\n",
    "The model should have $3,873,094$ trainable parameters. The training for this network takes longer than for the simple CNN."
   ]
  },
  {
   "cell_type": "code",
   "execution_count": null,
   "metadata": {
    "colab": {
     "base_uri": "https://localhost:8080/"
    },
    "id": "OstAZ84Gt-DI",
    "outputId": "8d5b190b-d4c5-4303-808b-00fb2c6f268f"
   },
   "outputs": [],
   "source": [
    "class LightUNet(nn.Module):\n",
    "    def __init__(self, num_classes: int, num_input_channel: int = 1):\n",
    "        super().__init__()\n",
    "        self.encoder_block1 = nn.Sequential(\n",
    "            nn.Conv2d(num_input_channel, 64, 3, padding=1),\n",
    "            nn.InstanceNorm2d(64),\n",
    "            nn.LeakyReLU()\n",
    "        )\n",
    "        # TODO: Encoder blocks 2-4\n",
    "        self.encoder_block2 = ...\n",
    "        self.encoder_block3 = ...\n",
    "\n",
    "        self.encoder_block4 = ...\n",
    "        )\n",
    "\n",
    "        self.decoder_block4 = nn.Sequential(\n",
    "            nn.Conv2d(512 + 256, 256, 3, padding=1),\n",
    "            nn.InstanceNorm2d(256),\n",
    "            nn.LeakyReLU()\n",
    "        )\n",
    "        # TODO: Decoder blocks 3-2\n",
    "        self.decoder_block3 = ...\n",
    "        )\n",
    "\n",
    "        self.decoder_block2 = ...\n",
    "        # TODO: classifier\n",
    "        self.classifier = ...\n",
    "\n",
    "    def upscale_concat(self, from_skipconnection, from_decoder):\n",
    "        # upscale last decoder output and concatenate with encoder output\n",
    "        from_decoder_upscaled = F.interpolate(from_decoder, scale_factor=2, mode='bilinear')\n",
    "        x = torch.cat((from_decoder_upscaled, from_skipconnection), dim=1)\n",
    "        return x\n",
    "\n",
    "    def forward(self, x):\n",
    "        # encoder\n",
    "        x1 = self.encoder_block1(x)\n",
    "        x2 = self.encoder_block2(x1)\n",
    "        # TODO: forward pass for encoder block 3 and 4\n",
    "        x3 = ...\n",
    "        x4 = ...\n",
    "\n",
    "        # decoder\n",
    "        x = self.decoder_block4(self.upscale_concat(x3, x4))\n",
    "        x = self.decoder_block3(self.upscale_concat(x2, x))\n",
    "        # TODO: forward pass for decoder block 2\n",
    "        x = ...\n",
    "        x = self.classifier(x)\n",
    "        return x\n",
    "unet = LightUNet(num_classes=6)\n",
    "unet.to('cuda')\n",
    "summary(unet, (1, 1, 256, 192))"
   ]
  },
  {
   "cell_type": "code",
   "execution_count": null,
   "metadata": {
    "colab": {
     "base_uri": "https://localhost:8080/",
     "height": 49,
     "referenced_widgets": [
      "0dc2a8702d1d425297c55c241ab2a712",
      "60cb9610bf2b4633b592df9b546c9442",
      "cda5fe1ab3084fde9e928944d205aabd",
      "014aa71ca785410a90c4cce3351a7e2b",
      "e0a4f2b2dad847bc8411a211971949a6",
      "6159e60bf7c54f2bb5e7ea19f564cc78",
      "e8820b0d4792435787f49ffce0587b7a",
      "e413de8588254736910d9f684489b96b",
      "3bdac7eba19f4a9493438d474ba7fe4e",
      "094779a6346544839dad1f37ffefe7d9",
      "808e90c4a0644eccad4283bc10b939fc"
     ]
    },
    "id": "TO6Pc6-muYmb",
    "outputId": "0ae2aadd-c618-45a9-a524-49f22a9134c3"
   },
   "outputs": [],
   "source": [
    "run_loss_unet = train_model(unet.to('cuda'), num_epoch=50)"
   ]
  },
  {
   "cell_type": "markdown",
   "metadata": {
    "id": "Hd4Yw54f02Ka"
   },
   "source": [
    "After 50 epochs, we can achieve an evaluation Dice of about 92\\%."
   ]
  },
  {
   "cell_type": "code",
   "execution_count": null,
   "metadata": {
    "id": "zjc4rdSvubik"
   },
   "outputs": [],
   "source": [
    "show_results(unet, run_loss_unet)"
   ]
  }
 ],
 "metadata": {
  "accelerator": "GPU",
  "colab": {
   "gpuType": "T4",
   "provenance": []
  },
  "kernelspec": {
   "display_name": "Python 3",
   "name": "python3"
  },
  "language_info": {
   "name": "python"
  },
  "widgets": {
   "application/vnd.jupyter.widget-state+json": {
    "014aa71ca785410a90c4cce3351a7e2b": {
     "model_module": "@jupyter-widgets/controls",
     "model_module_version": "1.5.0",
     "model_name": "HTMLModel",
     "state": {
      "_dom_classes": [],
      "_model_module": "@jupyter-widgets/controls",
      "_model_module_version": "1.5.0",
      "_model_name": "HTMLModel",
      "_view_count": null,
      "_view_module": "@jupyter-widgets/controls",
      "_view_module_version": "1.5.0",
      "_view_name": "HTMLView",
      "description": "",
      "description_tooltip": null,
      "layout": "IPY_MODEL_094779a6346544839dad1f37ffefe7d9",
      "placeholder": "​",
      "style": "IPY_MODEL_808e90c4a0644eccad4283bc10b939fc",
      "value": " 4/50 [00:24&lt;04:47,  6.24s/epoch]"
     }
    },
    "094779a6346544839dad1f37ffefe7d9": {
     "model_module": "@jupyter-widgets/base",
     "model_module_version": "1.2.0",
     "model_name": "LayoutModel",
     "state": {
      "_model_module": "@jupyter-widgets/base",
      "_model_module_version": "1.2.0",
      "_model_name": "LayoutModel",
      "_view_count": null,
      "_view_module": "@jupyter-widgets/base",
      "_view_module_version": "1.2.0",
      "_view_name": "LayoutView",
      "align_content": null,
      "align_items": null,
      "align_self": null,
      "border": null,
      "bottom": null,
      "display": null,
      "flex": null,
      "flex_flow": null,
      "grid_area": null,
      "grid_auto_columns": null,
      "grid_auto_flow": null,
      "grid_auto_rows": null,
      "grid_column": null,
      "grid_gap": null,
      "grid_row": null,
      "grid_template_areas": null,
      "grid_template_columns": null,
      "grid_template_rows": null,
      "height": null,
      "justify_content": null,
      "justify_items": null,
      "left": null,
      "margin": null,
      "max_height": null,
      "max_width": null,
      "min_height": null,
      "min_width": null,
      "object_fit": null,
      "object_position": null,
      "order": null,
      "overflow": null,
      "overflow_x": null,
      "overflow_y": null,
      "padding": null,
      "right": null,
      "top": null,
      "visibility": null,
      "width": null
     }
    },
    "0dc2a8702d1d425297c55c241ab2a712": {
     "model_module": "@jupyter-widgets/controls",
     "model_module_version": "1.5.0",
     "model_name": "HBoxModel",
     "state": {
      "_dom_classes": [],
      "_model_module": "@jupyter-widgets/controls",
      "_model_module_version": "1.5.0",
      "_model_name": "HBoxModel",
      "_view_count": null,
      "_view_module": "@jupyter-widgets/controls",
      "_view_module_version": "1.5.0",
      "_view_name": "HBoxView",
      "box_style": "",
      "children": [
       "IPY_MODEL_60cb9610bf2b4633b592df9b546c9442",
       "IPY_MODEL_cda5fe1ab3084fde9e928944d205aabd",
       "IPY_MODEL_014aa71ca785410a90c4cce3351a7e2b"
      ],
      "layout": "IPY_MODEL_e0a4f2b2dad847bc8411a211971949a6"
     }
    },
    "17d9468c549e48edae2029d684220dc8": {
     "model_module": "@jupyter-widgets/controls",
     "model_module_version": "1.5.0",
     "model_name": "DescriptionStyleModel",
     "state": {
      "_model_module": "@jupyter-widgets/controls",
      "_model_module_version": "1.5.0",
      "_model_name": "DescriptionStyleModel",
      "_view_count": null,
      "_view_module": "@jupyter-widgets/base",
      "_view_module_version": "1.2.0",
      "_view_name": "StyleView",
      "description_width": ""
     }
    },
    "25ffe36cba5b4751b3fa1aafda211170": {
     "model_module": "@jupyter-widgets/controls",
     "model_module_version": "1.5.0",
     "model_name": "HBoxModel",
     "state": {
      "_dom_classes": [],
      "_model_module": "@jupyter-widgets/controls",
      "_model_module_version": "1.5.0",
      "_model_name": "HBoxModel",
      "_view_count": null,
      "_view_module": "@jupyter-widgets/controls",
      "_view_module_version": "1.5.0",
      "_view_name": "HBoxView",
      "box_style": "",
      "children": [
       "IPY_MODEL_90ab061ea0804458aa7c6f16d120bf30",
       "IPY_MODEL_7b936dc7e87840da978e4accc68e6be2",
       "IPY_MODEL_5f420f71cf6745d4b006a7a4a7e2726b"
      ],
      "layout": "IPY_MODEL_abe05f1d250f43f1ba21737598a834b2"
     }
    },
    "2f28ad8d09ff44c6998f0abfbd6e101e": {
     "model_module": "@jupyter-widgets/controls",
     "model_module_version": "1.5.0",
     "model_name": "ProgressStyleModel",
     "state": {
      "_model_module": "@jupyter-widgets/controls",
      "_model_module_version": "1.5.0",
      "_model_name": "ProgressStyleModel",
      "_view_count": null,
      "_view_module": "@jupyter-widgets/base",
      "_view_module_version": "1.2.0",
      "_view_name": "StyleView",
      "bar_color": null,
      "description_width": ""
     }
    },
    "3bdac7eba19f4a9493438d474ba7fe4e": {
     "model_module": "@jupyter-widgets/controls",
     "model_module_version": "1.5.0",
     "model_name": "ProgressStyleModel",
     "state": {
      "_model_module": "@jupyter-widgets/controls",
      "_model_module_version": "1.5.0",
      "_model_name": "ProgressStyleModel",
      "_view_count": null,
      "_view_module": "@jupyter-widgets/base",
      "_view_module_version": "1.2.0",
      "_view_name": "StyleView",
      "bar_color": null,
      "description_width": ""
     }
    },
    "40c3df03040f4b888540ca6399fa2f28": {
     "model_module": "@jupyter-widgets/controls",
     "model_module_version": "1.5.0",
     "model_name": "HBoxModel",
     "state": {
      "_dom_classes": [],
      "_model_module": "@jupyter-widgets/controls",
      "_model_module_version": "1.5.0",
      "_model_name": "HBoxModel",
      "_view_count": null,
      "_view_module": "@jupyter-widgets/controls",
      "_view_module_version": "1.5.0",
      "_view_name": "HBoxView",
      "box_style": "",
      "children": [
       "IPY_MODEL_be37c78e07d84ef2b0e806204b8fb030",
       "IPY_MODEL_a88ec7944cf040febf68c6f18a6a44b9",
       "IPY_MODEL_87e50fdd17344c01849892ce87948ae0"
      ],
      "layout": "IPY_MODEL_863781417ae74a9b97bd7072973498d2"
     }
    },
    "5f420f71cf6745d4b006a7a4a7e2726b": {
     "model_module": "@jupyter-widgets/controls",
     "model_module_version": "1.5.0",
     "model_name": "HTMLModel",
     "state": {
      "_dom_classes": [],
      "_model_module": "@jupyter-widgets/controls",
      "_model_module_version": "1.5.0",
      "_model_name": "HTMLModel",
      "_view_count": null,
      "_view_module": "@jupyter-widgets/controls",
      "_view_module_version": "1.5.0",
      "_view_name": "HTMLView",
      "description": "",
      "description_tooltip": null,
      "layout": "IPY_MODEL_b93fadc2005b4403a9ab95e797141c1d",
      "placeholder": "​",
      "style": "IPY_MODEL_613934f1713d4db8919ef204f8193a62",
      "value": " 50/50 [00:40&lt;00:00,  1.51epoch/s]"
     }
    },
    "60cb9610bf2b4633b592df9b546c9442": {
     "model_module": "@jupyter-widgets/controls",
     "model_module_version": "1.5.0",
     "model_name": "HTMLModel",
     "state": {
      "_dom_classes": [],
      "_model_module": "@jupyter-widgets/controls",
      "_model_module_version": "1.5.0",
      "_model_name": "HTMLModel",
      "_view_count": null,
      "_view_module": "@jupyter-widgets/controls",
      "_view_module_version": "1.5.0",
      "_view_name": "HTMLView",
      "description": "",
      "description_tooltip": null,
      "layout": "IPY_MODEL_6159e60bf7c54f2bb5e7ea19f564cc78",
      "placeholder": "​",
      "style": "IPY_MODEL_e8820b0d4792435787f49ffce0587b7a",
      "value": "training:   8%"
     }
    },
    "613934f1713d4db8919ef204f8193a62": {
     "model_module": "@jupyter-widgets/controls",
     "model_module_version": "1.5.0",
     "model_name": "DescriptionStyleModel",
     "state": {
      "_model_module": "@jupyter-widgets/controls",
      "_model_module_version": "1.5.0",
      "_model_name": "DescriptionStyleModel",
      "_view_count": null,
      "_view_module": "@jupyter-widgets/base",
      "_view_module_version": "1.2.0",
      "_view_name": "StyleView",
      "description_width": ""
     }
    },
    "6159e60bf7c54f2bb5e7ea19f564cc78": {
     "model_module": "@jupyter-widgets/base",
     "model_module_version": "1.2.0",
     "model_name": "LayoutModel",
     "state": {
      "_model_module": "@jupyter-widgets/base",
      "_model_module_version": "1.2.0",
      "_model_name": "LayoutModel",
      "_view_count": null,
      "_view_module": "@jupyter-widgets/base",
      "_view_module_version": "1.2.0",
      "_view_name": "LayoutView",
      "align_content": null,
      "align_items": null,
      "align_self": null,
      "border": null,
      "bottom": null,
      "display": null,
      "flex": null,
      "flex_flow": null,
      "grid_area": null,
      "grid_auto_columns": null,
      "grid_auto_flow": null,
      "grid_auto_rows": null,
      "grid_column": null,
      "grid_gap": null,
      "grid_row": null,
      "grid_template_areas": null,
      "grid_template_columns": null,
      "grid_template_rows": null,
      "height": null,
      "justify_content": null,
      "justify_items": null,
      "left": null,
      "margin": null,
      "max_height": null,
      "max_width": null,
      "min_height": null,
      "min_width": null,
      "object_fit": null,
      "object_position": null,
      "order": null,
      "overflow": null,
      "overflow_x": null,
      "overflow_y": null,
      "padding": null,
      "right": null,
      "top": null,
      "visibility": null,
      "width": null
     }
    },
    "7a6fd000b6384993894d0fb11faeba97": {
     "model_module": "@jupyter-widgets/controls",
     "model_module_version": "1.5.0",
     "model_name": "DescriptionStyleModel",
     "state": {
      "_model_module": "@jupyter-widgets/controls",
      "_model_module_version": "1.5.0",
      "_model_name": "DescriptionStyleModel",
      "_view_count": null,
      "_view_module": "@jupyter-widgets/base",
      "_view_module_version": "1.2.0",
      "_view_name": "StyleView",
      "description_width": ""
     }
    },
    "7b936dc7e87840da978e4accc68e6be2": {
     "model_module": "@jupyter-widgets/controls",
     "model_module_version": "1.5.0",
     "model_name": "FloatProgressModel",
     "state": {
      "_dom_classes": [],
      "_model_module": "@jupyter-widgets/controls",
      "_model_module_version": "1.5.0",
      "_model_name": "FloatProgressModel",
      "_view_count": null,
      "_view_module": "@jupyter-widgets/controls",
      "_view_module_version": "1.5.0",
      "_view_name": "ProgressView",
      "bar_style": "success",
      "description": "",
      "description_tooltip": null,
      "layout": "IPY_MODEL_bfa335ff942045618429b5dcce4e91d5",
      "max": 50,
      "min": 0,
      "orientation": "horizontal",
      "style": "IPY_MODEL_2f28ad8d09ff44c6998f0abfbd6e101e",
      "value": 50
     }
    },
    "7f604a827a5d4468a37ad47e54db4f27": {
     "model_module": "@jupyter-widgets/base",
     "model_module_version": "1.2.0",
     "model_name": "LayoutModel",
     "state": {
      "_model_module": "@jupyter-widgets/base",
      "_model_module_version": "1.2.0",
      "_model_name": "LayoutModel",
      "_view_count": null,
      "_view_module": "@jupyter-widgets/base",
      "_view_module_version": "1.2.0",
      "_view_name": "LayoutView",
      "align_content": null,
      "align_items": null,
      "align_self": null,
      "border": null,
      "bottom": null,
      "display": null,
      "flex": null,
      "flex_flow": null,
      "grid_area": null,
      "grid_auto_columns": null,
      "grid_auto_flow": null,
      "grid_auto_rows": null,
      "grid_column": null,
      "grid_gap": null,
      "grid_row": null,
      "grid_template_areas": null,
      "grid_template_columns": null,
      "grid_template_rows": null,
      "height": null,
      "justify_content": null,
      "justify_items": null,
      "left": null,
      "margin": null,
      "max_height": null,
      "max_width": null,
      "min_height": null,
      "min_width": null,
      "object_fit": null,
      "object_position": null,
      "order": null,
      "overflow": null,
      "overflow_x": null,
      "overflow_y": null,
      "padding": null,
      "right": null,
      "top": null,
      "visibility": null,
      "width": null
     }
    },
    "808e90c4a0644eccad4283bc10b939fc": {
     "model_module": "@jupyter-widgets/controls",
     "model_module_version": "1.5.0",
     "model_name": "DescriptionStyleModel",
     "state": {
      "_model_module": "@jupyter-widgets/controls",
      "_model_module_version": "1.5.0",
      "_model_name": "DescriptionStyleModel",
      "_view_count": null,
      "_view_module": "@jupyter-widgets/base",
      "_view_module_version": "1.2.0",
      "_view_name": "StyleView",
      "description_width": ""
     }
    },
    "863781417ae74a9b97bd7072973498d2": {
     "model_module": "@jupyter-widgets/base",
     "model_module_version": "1.2.0",
     "model_name": "LayoutModel",
     "state": {
      "_model_module": "@jupyter-widgets/base",
      "_model_module_version": "1.2.0",
      "_model_name": "LayoutModel",
      "_view_count": null,
      "_view_module": "@jupyter-widgets/base",
      "_view_module_version": "1.2.0",
      "_view_name": "LayoutView",
      "align_content": null,
      "align_items": null,
      "align_self": null,
      "border": null,
      "bottom": null,
      "display": null,
      "flex": null,
      "flex_flow": null,
      "grid_area": null,
      "grid_auto_columns": null,
      "grid_auto_flow": null,
      "grid_auto_rows": null,
      "grid_column": null,
      "grid_gap": null,
      "grid_row": null,
      "grid_template_areas": null,
      "grid_template_columns": null,
      "grid_template_rows": null,
      "height": null,
      "justify_content": null,
      "justify_items": null,
      "left": null,
      "margin": null,
      "max_height": null,
      "max_width": null,
      "min_height": null,
      "min_width": null,
      "object_fit": null,
      "object_position": null,
      "order": null,
      "overflow": null,
      "overflow_x": null,
      "overflow_y": null,
      "padding": null,
      "right": null,
      "top": null,
      "visibility": null,
      "width": null
     }
    },
    "87e50fdd17344c01849892ce87948ae0": {
     "model_module": "@jupyter-widgets/controls",
     "model_module_version": "1.5.0",
     "model_name": "HTMLModel",
     "state": {
      "_dom_classes": [],
      "_model_module": "@jupyter-widgets/controls",
      "_model_module_version": "1.5.0",
      "_model_name": "HTMLModel",
      "_view_count": null,
      "_view_module": "@jupyter-widgets/controls",
      "_view_module_version": "1.5.0",
      "_view_name": "HTMLView",
      "description": "",
      "description_tooltip": null,
      "layout": "IPY_MODEL_d18f7dfc7b954b679127dea14b91466e",
      "placeholder": "​",
      "style": "IPY_MODEL_7a6fd000b6384993894d0fb11faeba97",
      "value": " 50/50 [00:45&lt;00:00,  1.02s/epoch]"
     }
    },
    "90ab061ea0804458aa7c6f16d120bf30": {
     "model_module": "@jupyter-widgets/controls",
     "model_module_version": "1.5.0",
     "model_name": "HTMLModel",
     "state": {
      "_dom_classes": [],
      "_model_module": "@jupyter-widgets/controls",
      "_model_module_version": "1.5.0",
      "_model_name": "HTMLModel",
      "_view_count": null,
      "_view_module": "@jupyter-widgets/controls",
      "_view_module_version": "1.5.0",
      "_view_name": "HTMLView",
      "description": "",
      "description_tooltip": null,
      "layout": "IPY_MODEL_b67f25c08f1a4639b5dbd5e57a4a3132",
      "placeholder": "​",
      "style": "IPY_MODEL_f0c2fd45956948439bb8e0b4a186ee71",
      "value": "training: 100%"
     }
    },
    "a88ec7944cf040febf68c6f18a6a44b9": {
     "model_module": "@jupyter-widgets/controls",
     "model_module_version": "1.5.0",
     "model_name": "FloatProgressModel",
     "state": {
      "_dom_classes": [],
      "_model_module": "@jupyter-widgets/controls",
      "_model_module_version": "1.5.0",
      "_model_name": "FloatProgressModel",
      "_view_count": null,
      "_view_module": "@jupyter-widgets/controls",
      "_view_module_version": "1.5.0",
      "_view_name": "ProgressView",
      "bar_style": "success",
      "description": "",
      "description_tooltip": null,
      "layout": "IPY_MODEL_afd1d6fe2ffc442db3964944ef490dd4",
      "max": 50,
      "min": 0,
      "orientation": "horizontal",
      "style": "IPY_MODEL_ce4d46a9f1344424ac4b7465f91f18f7",
      "value": 50
     }
    },
    "abe05f1d250f43f1ba21737598a834b2": {
     "model_module": "@jupyter-widgets/base",
     "model_module_version": "1.2.0",
     "model_name": "LayoutModel",
     "state": {
      "_model_module": "@jupyter-widgets/base",
      "_model_module_version": "1.2.0",
      "_model_name": "LayoutModel",
      "_view_count": null,
      "_view_module": "@jupyter-widgets/base",
      "_view_module_version": "1.2.0",
      "_view_name": "LayoutView",
      "align_content": null,
      "align_items": null,
      "align_self": null,
      "border": null,
      "bottom": null,
      "display": null,
      "flex": null,
      "flex_flow": null,
      "grid_area": null,
      "grid_auto_columns": null,
      "grid_auto_flow": null,
      "grid_auto_rows": null,
      "grid_column": null,
      "grid_gap": null,
      "grid_row": null,
      "grid_template_areas": null,
      "grid_template_columns": null,
      "grid_template_rows": null,
      "height": null,
      "justify_content": null,
      "justify_items": null,
      "left": null,
      "margin": null,
      "max_height": null,
      "max_width": null,
      "min_height": null,
      "min_width": null,
      "object_fit": null,
      "object_position": null,
      "order": null,
      "overflow": null,
      "overflow_x": null,
      "overflow_y": null,
      "padding": null,
      "right": null,
      "top": null,
      "visibility": null,
      "width": null
     }
    },
    "afd1d6fe2ffc442db3964944ef490dd4": {
     "model_module": "@jupyter-widgets/base",
     "model_module_version": "1.2.0",
     "model_name": "LayoutModel",
     "state": {
      "_model_module": "@jupyter-widgets/base",
      "_model_module_version": "1.2.0",
      "_model_name": "LayoutModel",
      "_view_count": null,
      "_view_module": "@jupyter-widgets/base",
      "_view_module_version": "1.2.0",
      "_view_name": "LayoutView",
      "align_content": null,
      "align_items": null,
      "align_self": null,
      "border": null,
      "bottom": null,
      "display": null,
      "flex": null,
      "flex_flow": null,
      "grid_area": null,
      "grid_auto_columns": null,
      "grid_auto_flow": null,
      "grid_auto_rows": null,
      "grid_column": null,
      "grid_gap": null,
      "grid_row": null,
      "grid_template_areas": null,
      "grid_template_columns": null,
      "grid_template_rows": null,
      "height": null,
      "justify_content": null,
      "justify_items": null,
      "left": null,
      "margin": null,
      "max_height": null,
      "max_width": null,
      "min_height": null,
      "min_width": null,
      "object_fit": null,
      "object_position": null,
      "order": null,
      "overflow": null,
      "overflow_x": null,
      "overflow_y": null,
      "padding": null,
      "right": null,
      "top": null,
      "visibility": null,
      "width": null
     }
    },
    "b67f25c08f1a4639b5dbd5e57a4a3132": {
     "model_module": "@jupyter-widgets/base",
     "model_module_version": "1.2.0",
     "model_name": "LayoutModel",
     "state": {
      "_model_module": "@jupyter-widgets/base",
      "_model_module_version": "1.2.0",
      "_model_name": "LayoutModel",
      "_view_count": null,
      "_view_module": "@jupyter-widgets/base",
      "_view_module_version": "1.2.0",
      "_view_name": "LayoutView",
      "align_content": null,
      "align_items": null,
      "align_self": null,
      "border": null,
      "bottom": null,
      "display": null,
      "flex": null,
      "flex_flow": null,
      "grid_area": null,
      "grid_auto_columns": null,
      "grid_auto_flow": null,
      "grid_auto_rows": null,
      "grid_column": null,
      "grid_gap": null,
      "grid_row": null,
      "grid_template_areas": null,
      "grid_template_columns": null,
      "grid_template_rows": null,
      "height": null,
      "justify_content": null,
      "justify_items": null,
      "left": null,
      "margin": null,
      "max_height": null,
      "max_width": null,
      "min_height": null,
      "min_width": null,
      "object_fit": null,
      "object_position": null,
      "order": null,
      "overflow": null,
      "overflow_x": null,
      "overflow_y": null,
      "padding": null,
      "right": null,
      "top": null,
      "visibility": null,
      "width": null
     }
    },
    "b93fadc2005b4403a9ab95e797141c1d": {
     "model_module": "@jupyter-widgets/base",
     "model_module_version": "1.2.0",
     "model_name": "LayoutModel",
     "state": {
      "_model_module": "@jupyter-widgets/base",
      "_model_module_version": "1.2.0",
      "_model_name": "LayoutModel",
      "_view_count": null,
      "_view_module": "@jupyter-widgets/base",
      "_view_module_version": "1.2.0",
      "_view_name": "LayoutView",
      "align_content": null,
      "align_items": null,
      "align_self": null,
      "border": null,
      "bottom": null,
      "display": null,
      "flex": null,
      "flex_flow": null,
      "grid_area": null,
      "grid_auto_columns": null,
      "grid_auto_flow": null,
      "grid_auto_rows": null,
      "grid_column": null,
      "grid_gap": null,
      "grid_row": null,
      "grid_template_areas": null,
      "grid_template_columns": null,
      "grid_template_rows": null,
      "height": null,
      "justify_content": null,
      "justify_items": null,
      "left": null,
      "margin": null,
      "max_height": null,
      "max_width": null,
      "min_height": null,
      "min_width": null,
      "object_fit": null,
      "object_position": null,
      "order": null,
      "overflow": null,
      "overflow_x": null,
      "overflow_y": null,
      "padding": null,
      "right": null,
      "top": null,
      "visibility": null,
      "width": null
     }
    },
    "be37c78e07d84ef2b0e806204b8fb030": {
     "model_module": "@jupyter-widgets/controls",
     "model_module_version": "1.5.0",
     "model_name": "HTMLModel",
     "state": {
      "_dom_classes": [],
      "_model_module": "@jupyter-widgets/controls",
      "_model_module_version": "1.5.0",
      "_model_name": "HTMLModel",
      "_view_count": null,
      "_view_module": "@jupyter-widgets/controls",
      "_view_module_version": "1.5.0",
      "_view_name": "HTMLView",
      "description": "",
      "description_tooltip": null,
      "layout": "IPY_MODEL_7f604a827a5d4468a37ad47e54db4f27",
      "placeholder": "​",
      "style": "IPY_MODEL_17d9468c549e48edae2029d684220dc8",
      "value": "training: 100%"
     }
    },
    "bfa335ff942045618429b5dcce4e91d5": {
     "model_module": "@jupyter-widgets/base",
     "model_module_version": "1.2.0",
     "model_name": "LayoutModel",
     "state": {
      "_model_module": "@jupyter-widgets/base",
      "_model_module_version": "1.2.0",
      "_model_name": "LayoutModel",
      "_view_count": null,
      "_view_module": "@jupyter-widgets/base",
      "_view_module_version": "1.2.0",
      "_view_name": "LayoutView",
      "align_content": null,
      "align_items": null,
      "align_self": null,
      "border": null,
      "bottom": null,
      "display": null,
      "flex": null,
      "flex_flow": null,
      "grid_area": null,
      "grid_auto_columns": null,
      "grid_auto_flow": null,
      "grid_auto_rows": null,
      "grid_column": null,
      "grid_gap": null,
      "grid_row": null,
      "grid_template_areas": null,
      "grid_template_columns": null,
      "grid_template_rows": null,
      "height": null,
      "justify_content": null,
      "justify_items": null,
      "left": null,
      "margin": null,
      "max_height": null,
      "max_width": null,
      "min_height": null,
      "min_width": null,
      "object_fit": null,
      "object_position": null,
      "order": null,
      "overflow": null,
      "overflow_x": null,
      "overflow_y": null,
      "padding": null,
      "right": null,
      "top": null,
      "visibility": null,
      "width": null
     }
    },
    "cda5fe1ab3084fde9e928944d205aabd": {
     "model_module": "@jupyter-widgets/controls",
     "model_module_version": "1.5.0",
     "model_name": "FloatProgressModel",
     "state": {
      "_dom_classes": [],
      "_model_module": "@jupyter-widgets/controls",
      "_model_module_version": "1.5.0",
      "_model_name": "FloatProgressModel",
      "_view_count": null,
      "_view_module": "@jupyter-widgets/controls",
      "_view_module_version": "1.5.0",
      "_view_name": "ProgressView",
      "bar_style": "",
      "description": "",
      "description_tooltip": null,
      "layout": "IPY_MODEL_e413de8588254736910d9f684489b96b",
      "max": 50,
      "min": 0,
      "orientation": "horizontal",
      "style": "IPY_MODEL_3bdac7eba19f4a9493438d474ba7fe4e",
      "value": 4
     }
    },
    "ce4d46a9f1344424ac4b7465f91f18f7": {
     "model_module": "@jupyter-widgets/controls",
     "model_module_version": "1.5.0",
     "model_name": "ProgressStyleModel",
     "state": {
      "_model_module": "@jupyter-widgets/controls",
      "_model_module_version": "1.5.0",
      "_model_name": "ProgressStyleModel",
      "_view_count": null,
      "_view_module": "@jupyter-widgets/base",
      "_view_module_version": "1.2.0",
      "_view_name": "StyleView",
      "bar_color": null,
      "description_width": ""
     }
    },
    "d18f7dfc7b954b679127dea14b91466e": {
     "model_module": "@jupyter-widgets/base",
     "model_module_version": "1.2.0",
     "model_name": "LayoutModel",
     "state": {
      "_model_module": "@jupyter-widgets/base",
      "_model_module_version": "1.2.0",
      "_model_name": "LayoutModel",
      "_view_count": null,
      "_view_module": "@jupyter-widgets/base",
      "_view_module_version": "1.2.0",
      "_view_name": "LayoutView",
      "align_content": null,
      "align_items": null,
      "align_self": null,
      "border": null,
      "bottom": null,
      "display": null,
      "flex": null,
      "flex_flow": null,
      "grid_area": null,
      "grid_auto_columns": null,
      "grid_auto_flow": null,
      "grid_auto_rows": null,
      "grid_column": null,
      "grid_gap": null,
      "grid_row": null,
      "grid_template_areas": null,
      "grid_template_columns": null,
      "grid_template_rows": null,
      "height": null,
      "justify_content": null,
      "justify_items": null,
      "left": null,
      "margin": null,
      "max_height": null,
      "max_width": null,
      "min_height": null,
      "min_width": null,
      "object_fit": null,
      "object_position": null,
      "order": null,
      "overflow": null,
      "overflow_x": null,
      "overflow_y": null,
      "padding": null,
      "right": null,
      "top": null,
      "visibility": null,
      "width": null
     }
    },
    "e0a4f2b2dad847bc8411a211971949a6": {
     "model_module": "@jupyter-widgets/base",
     "model_module_version": "1.2.0",
     "model_name": "LayoutModel",
     "state": {
      "_model_module": "@jupyter-widgets/base",
      "_model_module_version": "1.2.0",
      "_model_name": "LayoutModel",
      "_view_count": null,
      "_view_module": "@jupyter-widgets/base",
      "_view_module_version": "1.2.0",
      "_view_name": "LayoutView",
      "align_content": null,
      "align_items": null,
      "align_self": null,
      "border": null,
      "bottom": null,
      "display": null,
      "flex": null,
      "flex_flow": null,
      "grid_area": null,
      "grid_auto_columns": null,
      "grid_auto_flow": null,
      "grid_auto_rows": null,
      "grid_column": null,
      "grid_gap": null,
      "grid_row": null,
      "grid_template_areas": null,
      "grid_template_columns": null,
      "grid_template_rows": null,
      "height": null,
      "justify_content": null,
      "justify_items": null,
      "left": null,
      "margin": null,
      "max_height": null,
      "max_width": null,
      "min_height": null,
      "min_width": null,
      "object_fit": null,
      "object_position": null,
      "order": null,
      "overflow": null,
      "overflow_x": null,
      "overflow_y": null,
      "padding": null,
      "right": null,
      "top": null,
      "visibility": null,
      "width": null
     }
    },
    "e413de8588254736910d9f684489b96b": {
     "model_module": "@jupyter-widgets/base",
     "model_module_version": "1.2.0",
     "model_name": "LayoutModel",
     "state": {
      "_model_module": "@jupyter-widgets/base",
      "_model_module_version": "1.2.0",
      "_model_name": "LayoutModel",
      "_view_count": null,
      "_view_module": "@jupyter-widgets/base",
      "_view_module_version": "1.2.0",
      "_view_name": "LayoutView",
      "align_content": null,
      "align_items": null,
      "align_self": null,
      "border": null,
      "bottom": null,
      "display": null,
      "flex": null,
      "flex_flow": null,
      "grid_area": null,
      "grid_auto_columns": null,
      "grid_auto_flow": null,
      "grid_auto_rows": null,
      "grid_column": null,
      "grid_gap": null,
      "grid_row": null,
      "grid_template_areas": null,
      "grid_template_columns": null,
      "grid_template_rows": null,
      "height": null,
      "justify_content": null,
      "justify_items": null,
      "left": null,
      "margin": null,
      "max_height": null,
      "max_width": null,
      "min_height": null,
      "min_width": null,
      "object_fit": null,
      "object_position": null,
      "order": null,
      "overflow": null,
      "overflow_x": null,
      "overflow_y": null,
      "padding": null,
      "right": null,
      "top": null,
      "visibility": null,
      "width": null
     }
    },
    "e8820b0d4792435787f49ffce0587b7a": {
     "model_module": "@jupyter-widgets/controls",
     "model_module_version": "1.5.0",
     "model_name": "DescriptionStyleModel",
     "state": {
      "_model_module": "@jupyter-widgets/controls",
      "_model_module_version": "1.5.0",
      "_model_name": "DescriptionStyleModel",
      "_view_count": null,
      "_view_module": "@jupyter-widgets/base",
      "_view_module_version": "1.2.0",
      "_view_name": "StyleView",
      "description_width": ""
     }
    },
    "f0c2fd45956948439bb8e0b4a186ee71": {
     "model_module": "@jupyter-widgets/controls",
     "model_module_version": "1.5.0",
     "model_name": "DescriptionStyleModel",
     "state": {
      "_model_module": "@jupyter-widgets/controls",
      "_model_module_version": "1.5.0",
      "_model_name": "DescriptionStyleModel",
      "_view_count": null,
      "_view_module": "@jupyter-widgets/base",
      "_view_module_version": "1.2.0",
      "_view_name": "StyleView",
      "description_width": ""
     }
    }
   }
  }
 },
 "nbformat": 4,
 "nbformat_minor": 0
}
